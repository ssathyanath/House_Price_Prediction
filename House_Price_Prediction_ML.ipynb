{
 "cells": [
  {
   "cell_type": "code",
   "execution_count": 1,
   "metadata": {
    "scrolled": true
   },
   "outputs": [],
   "source": [
    "import pandas as pd\n",
    "import numpy as np\n",
    "from sklearn.ensemble import RandomForestRegressor\n",
    "from sklearn.linear_model import LinearRegression,Lasso,LassoCV\n",
    "from sklearn.preprocessing import StandardScaler,OneHotEncoder,LabelEncoder\n",
    "from sklearn.model_selection import train_test_split\n",
    "from sklearn.feature_selection import SelectKBest,f_regression,SelectFromModel\n",
    "from sklearn import metrics\n",
    "import matplotlib.pyplot as plt\n",
    "import xgboost\n",
    "import pickle\n",
    "import sqlite3\n",
    "import sqlalchemy\n",
    "from sqlalchemy.ext.automap import automap_base\n",
    "from sqlalchemy.orm import session\n",
    "from sqlalchemy import create_engine, func"
   ]
  },
  {
   "cell_type": "code",
   "execution_count": 2,
   "metadata": {
    "scrolled": true
   },
   "outputs": [],
   "source": [
    "# Create connection with database file\n",
    "dbfile = 'housedata.db'\n",
    "con = sqlite3.connect(dbfile)"
   ]
  },
  {
   "cell_type": "code",
   "execution_count": 3,
   "metadata": {
    "scrolled": true
   },
   "outputs": [
    {
     "name": "stdout",
     "output_type": "stream",
     "text": [
      "[('zip_code_database',), ('kc_house_data',), ('joined_table',)]\n"
     ]
    }
   ],
   "source": [
    "# Creating Cursor\n",
    "cur = con.cursor()\n",
    "table_list = [a for a in cur.execute(\"SELECT name FROM sqlite_master WHERE type = 'table'\")]\n",
    "# Print table list\n",
    "print(table_list)"
   ]
  },
  {
   "cell_type": "code",
   "execution_count": 4,
   "metadata": {},
   "outputs": [],
   "source": [
    "# Read in SQL query\n",
    "df_housedata_raw = pd.read_sql_query('SELECT * FROM joined_table', con)"
   ]
  },
  {
   "cell_type": "code",
   "execution_count": 5,
   "metadata": {},
   "outputs": [
    {
     "data": {
      "text/plain": [
       "zip                               object\n",
       "type                              object\n",
       "decommissioned                    object\n",
       "primary_city                      object\n",
       "acceptable_cities                 object\n",
       "unacceptable_cities               object\n",
       "state                             object\n",
       "county                            object\n",
       "timezone                          object\n",
       "area_codes                        object\n",
       "world_region                      object\n",
       "country                           object\n",
       "latitude                          object\n",
       "longitude                         object\n",
       "irs_estimated_population_2015      int64\n",
       "id                                object\n",
       "date                              object\n",
       "price                              int64\n",
       "bedrooms                           int64\n",
       "bathrooms                         object\n",
       "sqft_living                       object\n",
       "sqft_lot                           int64\n",
       "floors                           float64\n",
       "waterfront                        object\n",
       "view                              object\n",
       "condition                          int64\n",
       "grade                              int64\n",
       "sqft_above                         int64\n",
       "sqft_basement                      int64\n",
       "yr_built                          object\n",
       "yr_renovated                      object\n",
       "zipcode                           object\n",
       "lat                               object\n",
       "long                              object\n",
       "sqft_living15                      int64\n",
       "sqft_lot15                         int64\n",
       "dtype: object"
      ]
     },
     "execution_count": 5,
     "metadata": {},
     "output_type": "execute_result"
    }
   ],
   "source": [
    "# List the column datatypes\n",
    "df_housedata_raw.dtypes"
   ]
  },
  {
   "cell_type": "code",
   "execution_count": 6,
   "metadata": {},
   "outputs": [
    {
     "data": {
      "text/plain": [
       "zip                                 70\n",
       "type                                 1\n",
       "decommissioned                       1\n",
       "primary_city                        24\n",
       "acceptable_cities                   18\n",
       "unacceptable_cities                 46\n",
       "state                                1\n",
       "county                               1\n",
       "timezone                             1\n",
       "area_codes                          15\n",
       "world_region                         1\n",
       "country                              1\n",
       "latitude                            37\n",
       "longitude                           41\n",
       "irs_estimated_population_2015       70\n",
       "id                               21436\n",
       "date                               372\n",
       "price                             3610\n",
       "bedrooms                            13\n",
       "bathrooms                           30\n",
       "sqft_living                       1038\n",
       "sqft_lot                          9782\n",
       "floors                               6\n",
       "waterfront                           2\n",
       "view                                 5\n",
       "condition                            5\n",
       "grade                               12\n",
       "sqft_above                         946\n",
       "sqft_basement                      306\n",
       "yr_built                           116\n",
       "yr_renovated                        70\n",
       "zipcode                             70\n",
       "lat                               5034\n",
       "long                               752\n",
       "sqft_living15                      777\n",
       "sqft_lot15                        8689\n",
       "dtype: int64"
      ]
     },
     "execution_count": 6,
     "metadata": {},
     "output_type": "execute_result"
    }
   ],
   "source": [
    "# list the column unique values\n",
    "df_housedata_raw.nunique()"
   ]
  },
  {
   "cell_type": "code",
   "execution_count": 7,
   "metadata": {
    "scrolled": true
   },
   "outputs": [
    {
     "data": {
      "text/html": [
       "<div>\n",
       "<style scoped>\n",
       "    .dataframe tbody tr th:only-of-type {\n",
       "        vertical-align: middle;\n",
       "    }\n",
       "\n",
       "    .dataframe tbody tr th {\n",
       "        vertical-align: top;\n",
       "    }\n",
       "\n",
       "    .dataframe thead th {\n",
       "        text-align: right;\n",
       "    }\n",
       "</style>\n",
       "<table border=\"1\" class=\"dataframe\">\n",
       "  <thead>\n",
       "    <tr style=\"text-align: right;\">\n",
       "      <th></th>\n",
       "      <th>zip</th>\n",
       "      <th>type</th>\n",
       "      <th>decommissioned</th>\n",
       "      <th>primary_city</th>\n",
       "      <th>acceptable_cities</th>\n",
       "      <th>unacceptable_cities</th>\n",
       "      <th>state</th>\n",
       "      <th>county</th>\n",
       "      <th>timezone</th>\n",
       "      <th>area_codes</th>\n",
       "      <th>...</th>\n",
       "      <th>grade</th>\n",
       "      <th>sqft_above</th>\n",
       "      <th>sqft_basement</th>\n",
       "      <th>yr_built</th>\n",
       "      <th>yr_renovated</th>\n",
       "      <th>zipcode</th>\n",
       "      <th>lat</th>\n",
       "      <th>long</th>\n",
       "      <th>sqft_living15</th>\n",
       "      <th>sqft_lot15</th>\n",
       "    </tr>\n",
       "  </thead>\n",
       "  <tbody>\n",
       "    <tr>\n",
       "      <td>0</td>\n",
       "      <td>98178</td>\n",
       "      <td>STANDARD</td>\n",
       "      <td>0.0</td>\n",
       "      <td>Seattle</td>\n",
       "      <td>Tukwila</td>\n",
       "      <td>Bryn Mawr, Skyway</td>\n",
       "      <td>WA</td>\n",
       "      <td>King County</td>\n",
       "      <td>America/Los_Angeles</td>\n",
       "      <td>206253425.0</td>\n",
       "      <td>...</td>\n",
       "      <td>7</td>\n",
       "      <td>1180</td>\n",
       "      <td>0</td>\n",
       "      <td>1955</td>\n",
       "      <td>0</td>\n",
       "      <td>98178</td>\n",
       "      <td>47.5112</td>\n",
       "      <td>-122.257</td>\n",
       "      <td>1340</td>\n",
       "      <td>5650</td>\n",
       "    </tr>\n",
       "    <tr>\n",
       "      <td>1</td>\n",
       "      <td>98125</td>\n",
       "      <td>STANDARD</td>\n",
       "      <td>0.0</td>\n",
       "      <td>Seattle</td>\n",
       "      <td></td>\n",
       "      <td>Lake City, Northgate</td>\n",
       "      <td>WA</td>\n",
       "      <td>King County</td>\n",
       "      <td>America/Los_Angeles</td>\n",
       "      <td>206.0</td>\n",
       "      <td>...</td>\n",
       "      <td>7</td>\n",
       "      <td>2170</td>\n",
       "      <td>400</td>\n",
       "      <td>1951</td>\n",
       "      <td>1991</td>\n",
       "      <td>98125</td>\n",
       "      <td>47.721</td>\n",
       "      <td>-122.319</td>\n",
       "      <td>1690</td>\n",
       "      <td>7639</td>\n",
       "    </tr>\n",
       "    <tr>\n",
       "      <td>2</td>\n",
       "      <td>98028</td>\n",
       "      <td>STANDARD</td>\n",
       "      <td>0.0</td>\n",
       "      <td>Kenmore</td>\n",
       "      <td>Bothell</td>\n",
       "      <td></td>\n",
       "      <td>WA</td>\n",
       "      <td>King County</td>\n",
       "      <td>America/Los_Angeles</td>\n",
       "      <td>425.0</td>\n",
       "      <td>...</td>\n",
       "      <td>6</td>\n",
       "      <td>770</td>\n",
       "      <td>0</td>\n",
       "      <td>1933</td>\n",
       "      <td>0</td>\n",
       "      <td>98028</td>\n",
       "      <td>47.7379</td>\n",
       "      <td>-122.233</td>\n",
       "      <td>2720</td>\n",
       "      <td>8062</td>\n",
       "    </tr>\n",
       "    <tr>\n",
       "      <td>3</td>\n",
       "      <td>98136</td>\n",
       "      <td>STANDARD</td>\n",
       "      <td>0.0</td>\n",
       "      <td>Seattle</td>\n",
       "      <td></td>\n",
       "      <td>Westwood</td>\n",
       "      <td>WA</td>\n",
       "      <td>King County</td>\n",
       "      <td>America/Los_Angeles</td>\n",
       "      <td>206.0</td>\n",
       "      <td>...</td>\n",
       "      <td>7</td>\n",
       "      <td>1050</td>\n",
       "      <td>910</td>\n",
       "      <td>1965</td>\n",
       "      <td>0</td>\n",
       "      <td>98136</td>\n",
       "      <td>47.5208</td>\n",
       "      <td>-122.393</td>\n",
       "      <td>1360</td>\n",
       "      <td>5000</td>\n",
       "    </tr>\n",
       "    <tr>\n",
       "      <td>4</td>\n",
       "      <td>98074</td>\n",
       "      <td>STANDARD</td>\n",
       "      <td>0.0</td>\n",
       "      <td>Sammamish</td>\n",
       "      <td>Redmond</td>\n",
       "      <td></td>\n",
       "      <td>WA</td>\n",
       "      <td>King County</td>\n",
       "      <td>America/Los_Angeles</td>\n",
       "      <td>206425.0</td>\n",
       "      <td>...</td>\n",
       "      <td>8</td>\n",
       "      <td>1680</td>\n",
       "      <td>0</td>\n",
       "      <td>1987</td>\n",
       "      <td>0</td>\n",
       "      <td>98074</td>\n",
       "      <td>47.6168</td>\n",
       "      <td>-122.045</td>\n",
       "      <td>1800</td>\n",
       "      <td>7503</td>\n",
       "    </tr>\n",
       "  </tbody>\n",
       "</table>\n",
       "<p>5 rows × 36 columns</p>\n",
       "</div>"
      ],
      "text/plain": [
       "     zip      type decommissioned primary_city acceptable_cities  \\\n",
       "0  98178  STANDARD            0.0      Seattle           Tukwila   \n",
       "1  98125  STANDARD            0.0      Seattle                     \n",
       "2  98028  STANDARD            0.0      Kenmore           Bothell   \n",
       "3  98136  STANDARD            0.0      Seattle                     \n",
       "4  98074  STANDARD            0.0    Sammamish           Redmond   \n",
       "\n",
       "    unacceptable_cities state       county             timezone   area_codes  \\\n",
       "0     Bryn Mawr, Skyway    WA  King County  America/Los_Angeles  206253425.0   \n",
       "1  Lake City, Northgate    WA  King County  America/Los_Angeles        206.0   \n",
       "2                          WA  King County  America/Los_Angeles        425.0   \n",
       "3              Westwood    WA  King County  America/Los_Angeles        206.0   \n",
       "4                          WA  King County  America/Los_Angeles     206425.0   \n",
       "\n",
       "   ... grade sqft_above sqft_basement yr_built  yr_renovated zipcode      lat  \\\n",
       "0  ...     7       1180             0     1955             0   98178  47.5112   \n",
       "1  ...     7       2170           400     1951          1991   98125   47.721   \n",
       "2  ...     6        770             0     1933             0   98028  47.7379   \n",
       "3  ...     7       1050           910     1965             0   98136  47.5208   \n",
       "4  ...     8       1680             0     1987             0   98074  47.6168   \n",
       "\n",
       "       long  sqft_living15 sqft_lot15  \n",
       "0  -122.257           1340       5650  \n",
       "1  -122.319           1690       7639  \n",
       "2  -122.233           2720       8062  \n",
       "3  -122.393           1360       5000  \n",
       "4  -122.045           1800       7503  \n",
       "\n",
       "[5 rows x 36 columns]"
      ]
     },
     "execution_count": 7,
     "metadata": {},
     "output_type": "execute_result"
    }
   ],
   "source": [
    "# Drop null rows if any\n",
    "df_housedata_raw = df_housedata_raw.dropna()\n",
    "\n",
    "# Check for 0 prices\n",
    "df_housedata_raw = df_housedata_raw[df_housedata_raw[\"price\"] != 0]\n",
    "\n",
    "df_housedata_raw.head()"
   ]
  },
  {
   "cell_type": "code",
   "execution_count": 8,
   "metadata": {},
   "outputs": [],
   "source": [
    "# Convert date to numeric\n",
    "df_housedata_raw[\"sqft_living\"] = pd.to_numeric(df_housedata_raw[\"sqft_living\"])\n",
    "df_housedata_raw[\"bathrooms\"] = pd.to_numeric(df_housedata_raw[\"bathrooms\"])\n",
    "df_housedata_raw[\"view\"] = pd.to_numeric(df_housedata_raw[\"view\"])\n",
    "df_housedata_raw[\"waterfront\"] = pd.to_numeric(df_housedata_raw[\"waterfront\"])"
   ]
  },
  {
   "cell_type": "code",
   "execution_count": 9,
   "metadata": {},
   "outputs": [
    {
     "data": {
      "text/plain": [
       "2014    14599\n",
       "2015     6837\n",
       "Name: date, dtype: int64"
      ]
     },
     "execution_count": 9,
     "metadata": {},
     "output_type": "execute_result"
    }
   ],
   "source": [
    "# Convert date to datetime format\n",
    "df_housedata_raw[\"date\"] = df_housedata_raw[\"date\"].str[:4]\n",
    "df_housedata_raw[\"date\"] = pd.to_numeric(df_housedata_raw[\"date\"])\n",
    "df_housedata_raw[\"date\"].value_counts()"
   ]
  },
  {
   "cell_type": "code",
   "execution_count": 10,
   "metadata": {
    "scrolled": true
   },
   "outputs": [
    {
     "data": {
      "text/html": [
       "<div>\n",
       "<style scoped>\n",
       "    .dataframe tbody tr th:only-of-type {\n",
       "        vertical-align: middle;\n",
       "    }\n",
       "\n",
       "    .dataframe tbody tr th {\n",
       "        vertical-align: top;\n",
       "    }\n",
       "\n",
       "    .dataframe thead th {\n",
       "        text-align: right;\n",
       "    }\n",
       "</style>\n",
       "<table border=\"1\" class=\"dataframe\">\n",
       "  <thead>\n",
       "    <tr style=\"text-align: right;\">\n",
       "      <th></th>\n",
       "      <th>zip</th>\n",
       "      <th>type</th>\n",
       "      <th>decommissioned</th>\n",
       "      <th>primary_city</th>\n",
       "      <th>acceptable_cities</th>\n",
       "      <th>unacceptable_cities</th>\n",
       "      <th>state</th>\n",
       "      <th>county</th>\n",
       "      <th>timezone</th>\n",
       "      <th>area_codes</th>\n",
       "      <th>...</th>\n",
       "      <th>sqft_basement</th>\n",
       "      <th>yr_built</th>\n",
       "      <th>yr_renovated</th>\n",
       "      <th>zipcode</th>\n",
       "      <th>lat</th>\n",
       "      <th>long</th>\n",
       "      <th>sqft_living15</th>\n",
       "      <th>sqft_lot15</th>\n",
       "      <th>SoldAge</th>\n",
       "      <th>RenovatedAge</th>\n",
       "    </tr>\n",
       "  </thead>\n",
       "  <tbody>\n",
       "    <tr>\n",
       "      <td>0</td>\n",
       "      <td>98178</td>\n",
       "      <td>STANDARD</td>\n",
       "      <td>0.0</td>\n",
       "      <td>Seattle</td>\n",
       "      <td>Tukwila</td>\n",
       "      <td>Bryn Mawr, Skyway</td>\n",
       "      <td>WA</td>\n",
       "      <td>King County</td>\n",
       "      <td>America/Los_Angeles</td>\n",
       "      <td>206253425.0</td>\n",
       "      <td>...</td>\n",
       "      <td>0</td>\n",
       "      <td>1955</td>\n",
       "      <td>0</td>\n",
       "      <td>98178</td>\n",
       "      <td>47.5112</td>\n",
       "      <td>-122.257</td>\n",
       "      <td>1340</td>\n",
       "      <td>5650</td>\n",
       "      <td>59</td>\n",
       "      <td>2014</td>\n",
       "    </tr>\n",
       "    <tr>\n",
       "      <td>1</td>\n",
       "      <td>98125</td>\n",
       "      <td>STANDARD</td>\n",
       "      <td>0.0</td>\n",
       "      <td>Seattle</td>\n",
       "      <td></td>\n",
       "      <td>Lake City, Northgate</td>\n",
       "      <td>WA</td>\n",
       "      <td>King County</td>\n",
       "      <td>America/Los_Angeles</td>\n",
       "      <td>206.0</td>\n",
       "      <td>...</td>\n",
       "      <td>400</td>\n",
       "      <td>1951</td>\n",
       "      <td>1991</td>\n",
       "      <td>98125</td>\n",
       "      <td>47.721</td>\n",
       "      <td>-122.319</td>\n",
       "      <td>1690</td>\n",
       "      <td>7639</td>\n",
       "      <td>63</td>\n",
       "      <td>23</td>\n",
       "    </tr>\n",
       "    <tr>\n",
       "      <td>2</td>\n",
       "      <td>98028</td>\n",
       "      <td>STANDARD</td>\n",
       "      <td>0.0</td>\n",
       "      <td>Kenmore</td>\n",
       "      <td>Bothell</td>\n",
       "      <td></td>\n",
       "      <td>WA</td>\n",
       "      <td>King County</td>\n",
       "      <td>America/Los_Angeles</td>\n",
       "      <td>425.0</td>\n",
       "      <td>...</td>\n",
       "      <td>0</td>\n",
       "      <td>1933</td>\n",
       "      <td>0</td>\n",
       "      <td>98028</td>\n",
       "      <td>47.7379</td>\n",
       "      <td>-122.233</td>\n",
       "      <td>2720</td>\n",
       "      <td>8062</td>\n",
       "      <td>82</td>\n",
       "      <td>2015</td>\n",
       "    </tr>\n",
       "    <tr>\n",
       "      <td>3</td>\n",
       "      <td>98136</td>\n",
       "      <td>STANDARD</td>\n",
       "      <td>0.0</td>\n",
       "      <td>Seattle</td>\n",
       "      <td></td>\n",
       "      <td>Westwood</td>\n",
       "      <td>WA</td>\n",
       "      <td>King County</td>\n",
       "      <td>America/Los_Angeles</td>\n",
       "      <td>206.0</td>\n",
       "      <td>...</td>\n",
       "      <td>910</td>\n",
       "      <td>1965</td>\n",
       "      <td>0</td>\n",
       "      <td>98136</td>\n",
       "      <td>47.5208</td>\n",
       "      <td>-122.393</td>\n",
       "      <td>1360</td>\n",
       "      <td>5000</td>\n",
       "      <td>49</td>\n",
       "      <td>2014</td>\n",
       "    </tr>\n",
       "    <tr>\n",
       "      <td>4</td>\n",
       "      <td>98074</td>\n",
       "      <td>STANDARD</td>\n",
       "      <td>0.0</td>\n",
       "      <td>Sammamish</td>\n",
       "      <td>Redmond</td>\n",
       "      <td></td>\n",
       "      <td>WA</td>\n",
       "      <td>King County</td>\n",
       "      <td>America/Los_Angeles</td>\n",
       "      <td>206425.0</td>\n",
       "      <td>...</td>\n",
       "      <td>0</td>\n",
       "      <td>1987</td>\n",
       "      <td>0</td>\n",
       "      <td>98074</td>\n",
       "      <td>47.6168</td>\n",
       "      <td>-122.045</td>\n",
       "      <td>1800</td>\n",
       "      <td>7503</td>\n",
       "      <td>28</td>\n",
       "      <td>2015</td>\n",
       "    </tr>\n",
       "  </tbody>\n",
       "</table>\n",
       "<p>5 rows × 38 columns</p>\n",
       "</div>"
      ],
      "text/plain": [
       "     zip      type decommissioned primary_city acceptable_cities  \\\n",
       "0  98178  STANDARD            0.0      Seattle           Tukwila   \n",
       "1  98125  STANDARD            0.0      Seattle                     \n",
       "2  98028  STANDARD            0.0      Kenmore           Bothell   \n",
       "3  98136  STANDARD            0.0      Seattle                     \n",
       "4  98074  STANDARD            0.0    Sammamish           Redmond   \n",
       "\n",
       "    unacceptable_cities state       county             timezone   area_codes  \\\n",
       "0     Bryn Mawr, Skyway    WA  King County  America/Los_Angeles  206253425.0   \n",
       "1  Lake City, Northgate    WA  King County  America/Los_Angeles        206.0   \n",
       "2                          WA  King County  America/Los_Angeles        425.0   \n",
       "3              Westwood    WA  King County  America/Los_Angeles        206.0   \n",
       "4                          WA  King County  America/Los_Angeles     206425.0   \n",
       "\n",
       "   ... sqft_basement yr_built yr_renovated zipcode      lat      long  \\\n",
       "0  ...             0     1955            0   98178  47.5112  -122.257   \n",
       "1  ...           400     1951         1991   98125   47.721  -122.319   \n",
       "2  ...             0     1933            0   98028  47.7379  -122.233   \n",
       "3  ...           910     1965            0   98136  47.5208  -122.393   \n",
       "4  ...             0     1987            0   98074  47.6168  -122.045   \n",
       "\n",
       "   sqft_living15  sqft_lot15  SoldAge  RenovatedAge  \n",
       "0           1340        5650       59          2014  \n",
       "1           1690        7639       63            23  \n",
       "2           2720        8062       82          2015  \n",
       "3           1360        5000       49          2014  \n",
       "4           1800        7503       28          2015  \n",
       "\n",
       "[5 rows x 38 columns]"
      ]
     },
     "execution_count": 10,
     "metadata": {},
     "output_type": "execute_result"
    }
   ],
   "source": [
    "# Calculate remodel age and sold age \n",
    "df_housedata_raw[\"yr_built\"] = pd.to_numeric(df_housedata_raw[\"yr_built\"])\n",
    "df_housedata_raw[\"yr_renovated\"] = pd.to_numeric(df_housedata_raw[\"yr_renovated\"])\n",
    "df_housedata_raw[\"SoldAge\"] = df_housedata_raw[\"date\"] - df_housedata_raw[\"yr_built\"]\n",
    "df_housedata_raw[\"RenovatedAge\"] = df_housedata_raw[\"date\"] - df_housedata_raw[\"yr_renovated\"]\n",
    "df_housedata_raw.head()"
   ]
  },
  {
   "cell_type": "code",
   "execution_count": 11,
   "metadata": {},
   "outputs": [],
   "source": [
    "# Drop columns not needed\n",
    "df_housedata = df_housedata_raw.drop(columns = [\"id\",\"lat\",\"long\",\"sqft_living15\",\"sqft_lot15\",\n",
    "                                                \"date\",\"yr_built\",\"yr_renovated\",\"zipcode\",\n",
    "                                               \"zip\",\"type\",\"decommissioned\",\"acceptable_cities\",\"unacceptable_cities\",\n",
    "                                                \"state\",\"county\",\"timezone\",\"area_codes\",\"world_region\",\"country\",\n",
    "                                                \"latitude\",\"longitude\",\"irs_estimated_population_2015\"])"
   ]
  },
  {
   "cell_type": "code",
   "execution_count": 12,
   "metadata": {},
   "outputs": [],
   "source": [
    "# # Label Encode for primary city\n",
    "# le = LabelEncoder()\n",
    "# df_housedata[\"primary_city\"] = le.fit_transform(df_housedata[\"primary_city\"])"
   ]
  },
  {
   "cell_type": "code",
   "execution_count": 13,
   "metadata": {},
   "outputs": [],
   "source": [
    "# # One Hot Encoding for Primary City\n",
    "# # Create a OneHotEncoder instance\n",
    "# enc = OneHotEncoder(sparse=False)\n",
    "# # Fit and transform the OneHotEncoder using the categorical variable list\n",
    "# encode_df = pd.DataFrame(enc.fit_transform(df_housedata.primary_city.values.reshape(-1,1)))\n",
    "# # Add the encoded variable names to the dataframe\n",
    "# encode_df.columns = enc.get_feature_names([\"primary_city\"])\n",
    "# encode_df.head()\n",
    "# # Merge the two DataFrames together and drop the Country column\n",
    "# df_housedata = df_housedata.merge(encode_df,left_index=True,right_index=True).drop(\"primary_city\",1)"
   ]
  },
  {
   "cell_type": "code",
   "execution_count": 14,
   "metadata": {},
   "outputs": [],
   "source": [
    "# Custom encode for primary city\n",
    "# Rank cities by average price\n",
    "average_price_rank = df_housedata.groupby(\"primary_city\")[\"price\"].median().rank(axis=0, ascending=False)\n",
    "average_price = df_housedata.groupby(\"primary_city\")[\"price\"].median()\n",
    "# Convert to dataframe\n",
    "average_price_df = average_price_rank.to_frame(name=\"city_rank\")\n",
    "average_price_df[\"avg_price\"] = average_price"
   ]
  },
  {
   "cell_type": "code",
   "execution_count": 15,
   "metadata": {},
   "outputs": [
    {
     "data": {
      "image/png": "[encoded data removed]",
      "text/plain": [
       "<Figure size 720x360 with 1 Axes>"
      ]
     },
     "metadata": {
      "needs_background": "light"
     },
     "output_type": "display_data"
    }
   ],
   "source": [
    "average_price_df = average_price_df.sort_values(by=[\"avg_price\"],ascending=False)\n",
    "\n",
    "# Plot the average price results and download image\n",
    "ax = average_price_df.plot(kind =\"bar\",y=\"avg_price\",legend=False,figsize=(10,5))\n",
    "ax.set_ylabel(\"Median House Price\")\n",
    "ax.set_xlabel(\"City\", labelpad=5)\n",
    "fig = ax.get_figure()\n",
    "fig.savefig(\"static/styles/Median_Price.png\",bbox_inches = \"tight\")\n"
   ]
  },
  {
   "cell_type": "code",
   "execution_count": 16,
   "metadata": {},
   "outputs": [
    {
     "data": {
      "text/html": [
       "<div>\n",
       "<style scoped>\n",
       "    .dataframe tbody tr th:only-of-type {\n",
       "        vertical-align: middle;\n",
       "    }\n",
       "\n",
       "    .dataframe tbody tr th {\n",
       "        vertical-align: top;\n",
       "    }\n",
       "\n",
       "    .dataframe thead th {\n",
       "        text-align: right;\n",
       "    }\n",
       "</style>\n",
       "<table border=\"1\" class=\"dataframe\">\n",
       "  <thead>\n",
       "    <tr style=\"text-align: right;\">\n",
       "      <th></th>\n",
       "      <th>price</th>\n",
       "      <th>bedrooms</th>\n",
       "      <th>bathrooms</th>\n",
       "      <th>sqft_living</th>\n",
       "      <th>sqft_lot</th>\n",
       "      <th>floors</th>\n",
       "      <th>waterfront</th>\n",
       "      <th>view</th>\n",
       "      <th>condition</th>\n",
       "      <th>grade</th>\n",
       "      <th>sqft_above</th>\n",
       "      <th>sqft_basement</th>\n",
       "      <th>SoldAge</th>\n",
       "      <th>RenovatedAge</th>\n",
       "      <th>city_rank</th>\n",
       "    </tr>\n",
       "  </thead>\n",
       "  <tbody>\n",
       "    <tr>\n",
       "      <td>0</td>\n",
       "      <td>221900</td>\n",
       "      <td>3</td>\n",
       "      <td>1.00</td>\n",
       "      <td>1180</td>\n",
       "      <td>5650</td>\n",
       "      <td>1.0</td>\n",
       "      <td>0</td>\n",
       "      <td>0</td>\n",
       "      <td>3</td>\n",
       "      <td>7</td>\n",
       "      <td>1180</td>\n",
       "      <td>0</td>\n",
       "      <td>59</td>\n",
       "      <td>2014</td>\n",
       "      <td>13.0</td>\n",
       "    </tr>\n",
       "    <tr>\n",
       "      <td>1</td>\n",
       "      <td>538000</td>\n",
       "      <td>3</td>\n",
       "      <td>2.25</td>\n",
       "      <td>2570</td>\n",
       "      <td>7242</td>\n",
       "      <td>2.0</td>\n",
       "      <td>0</td>\n",
       "      <td>0</td>\n",
       "      <td>3</td>\n",
       "      <td>7</td>\n",
       "      <td>2170</td>\n",
       "      <td>400</td>\n",
       "      <td>63</td>\n",
       "      <td>23</td>\n",
       "      <td>13.0</td>\n",
       "    </tr>\n",
       "    <tr>\n",
       "      <td>2</td>\n",
       "      <td>180000</td>\n",
       "      <td>2</td>\n",
       "      <td>1.00</td>\n",
       "      <td>770</td>\n",
       "      <td>10000</td>\n",
       "      <td>1.0</td>\n",
       "      <td>0</td>\n",
       "      <td>0</td>\n",
       "      <td>3</td>\n",
       "      <td>6</td>\n",
       "      <td>770</td>\n",
       "      <td>0</td>\n",
       "      <td>82</td>\n",
       "      <td>2015</td>\n",
       "      <td>14.0</td>\n",
       "    </tr>\n",
       "    <tr>\n",
       "      <td>3</td>\n",
       "      <td>604000</td>\n",
       "      <td>4</td>\n",
       "      <td>3.00</td>\n",
       "      <td>1960</td>\n",
       "      <td>5000</td>\n",
       "      <td>1.0</td>\n",
       "      <td>0</td>\n",
       "      <td>0</td>\n",
       "      <td>5</td>\n",
       "      <td>7</td>\n",
       "      <td>1050</td>\n",
       "      <td>910</td>\n",
       "      <td>49</td>\n",
       "      <td>2014</td>\n",
       "      <td>13.0</td>\n",
       "    </tr>\n",
       "    <tr>\n",
       "      <td>4</td>\n",
       "      <td>510000</td>\n",
       "      <td>3</td>\n",
       "      <td>2.00</td>\n",
       "      <td>1680</td>\n",
       "      <td>8080</td>\n",
       "      <td>1.0</td>\n",
       "      <td>0</td>\n",
       "      <td>0</td>\n",
       "      <td>3</td>\n",
       "      <td>8</td>\n",
       "      <td>1680</td>\n",
       "      <td>0</td>\n",
       "      <td>28</td>\n",
       "      <td>2015</td>\n",
       "      <td>4.0</td>\n",
       "    </tr>\n",
       "  </tbody>\n",
       "</table>\n",
       "</div>"
      ],
      "text/plain": [
       "    price  bedrooms  bathrooms  sqft_living  sqft_lot  floors  waterfront  \\\n",
       "0  221900         3       1.00         1180      5650     1.0           0   \n",
       "1  538000         3       2.25         2570      7242     2.0           0   \n",
       "2  180000         2       1.00          770     10000     1.0           0   \n",
       "3  604000         4       3.00         1960      5000     1.0           0   \n",
       "4  510000         3       2.00         1680      8080     1.0           0   \n",
       "\n",
       "   view  condition  grade  sqft_above  sqft_basement  SoldAge  RenovatedAge  \\\n",
       "0     0          3      7        1180              0       59          2014   \n",
       "1     0          3      7        2170            400       63            23   \n",
       "2     0          3      6         770              0       82          2015   \n",
       "3     0          5      7        1050            910       49          2014   \n",
       "4     0          3      8        1680              0       28          2015   \n",
       "\n",
       "   city_rank  \n",
       "0       13.0  \n",
       "1       13.0  \n",
       "2       14.0  \n",
       "3       13.0  \n",
       "4        4.0  "
      ]
     },
     "execution_count": 16,
     "metadata": {},
     "output_type": "execute_result"
    }
   ],
   "source": [
    "#Format Average Price \n",
    "average_price_df[\"avg_price\"] = average_price_df[\"avg_price\"].map(\"{:,.2f}\".format)\n",
    "\n",
    "# Merge rank with housedata and drop primary city\n",
    "df_housedata = df_housedata.merge(average_price_df,on = \"primary_city\", how=\"left\").drop([\"primary_city\",\"avg_price\"],1)\n",
    "df_housedata.head()"
   ]
  },
  {
   "cell_type": "code",
   "execution_count": 17,
   "metadata": {},
   "outputs": [
    {
     "data": {
      "image/png": "[encoded data removed]",
      "text/plain": [
       "<Figure size 720x360 with 1 Axes>"
      ]
     },
     "metadata": {
      "needs_background": "light"
     },
     "output_type": "display_data"
    }
   ],
   "source": [
    "# Calculate Pearsons Correlation coefficient\n",
    "housedata_corr_full = df_housedata.corr(method = \"pearson\")\n",
    "housedata_corr = housedata_corr_full[[\"price\"]].copy()\n",
    "housedata_corr[\"price\"] = abs(housedata_corr[\"price\"])\n",
    "housedata_corr = housedata_corr.drop(index=\"price\")\n",
    "housedata_corr = housedata_corr.sort_values(by=['price'],ascending=False)\n",
    "\n",
    "# Plot the correlation results and download image\n",
    "ax = housedata_corr.plot(kind =\"bar\",y=\"price\",legend=False,figsize=(10,5))\n",
    "ax.set_ylabel(\"Correlation\")\n",
    "ax.set_xlabel(\"Features\", labelpad=5)\n",
    "fig = ax.get_figure()\n",
    "fig.savefig(\"static/styles/House_Price_Corr.png\",bbox_inches = \"tight\")"
   ]
  },
  {
   "cell_type": "code",
   "execution_count": 18,
   "metadata": {},
   "outputs": [
    {
     "data": {
      "text/plain": [
       "<matplotlib.axes._subplots.AxesSubplot at 0x18aa33e4a08>"
      ]
     },
     "execution_count": 18,
     "metadata": {},
     "output_type": "execute_result"
    },
    {
     "data": {
      "image/png": "[encoded data removed]",
      "text/plain": [
       "<Figure size 432x288 with 1 Axes>"
      ]
     },
     "metadata": {
      "needs_background": "light"
     },
     "output_type": "display_data"
    }
   ],
   "source": [
    "# Use Kbest to determine the features\n",
    "# Convert dataset into X and Y\n",
    "X_feature_sel = df_housedata.drop([\"price\"], axis = 1).copy()\n",
    "Y_feature_sel = df_housedata[\"price\"].copy()\n",
    "\n",
    "# configure to select all features\n",
    "fs = SelectKBest(score_func=f_regression, k='all')\n",
    "# learn relationship from training data\n",
    "fs.fit(X_feature_sel, Y_feature_sel)\n",
    "# transform train input data\n",
    "X_train_fs = fs.transform(X_feature_sel)\n",
    "\n",
    "feature_name = list(X_feature_sel.columns)\n",
    "housedata_kbest = pd.DataFrame(fs.scores_, columns=[\"kbest_scores\"], index= feature_name)\n",
    "housedata_kbest = housedata_kbest.sort_values(by=['kbest_scores'],ascending=False)\n",
    "housedata_kbest.plot(kind =\"bar\",y=\"kbest_scores\")"
   ]
  },
  {
   "cell_type": "code",
   "execution_count": 19,
   "metadata": {},
   "outputs": [],
   "source": [
    "# selFeatures = SelectFromModel(Lasso(alpha=0.005,fit_intercept=False, tol=0.01))\n",
    "# selFeatures.fit(X_feature_sel,Y_feature_sel)\n",
    "# selected_feats = X_feature_sel.columns[(selFeatures.get_support())]\n",
    "# features = selected_feats.to_list() \n",
    "# features"
   ]
  },
  {
   "cell_type": "code",
   "execution_count": 20,
   "metadata": {
    "scrolled": true
   },
   "outputs": [
    {
     "data": {
      "text/plain": [
       "['sqft_living',\n",
       " 'grade',\n",
       " 'sqft_above',\n",
       " 'bathrooms',\n",
       " 'city_rank',\n",
       " 'view',\n",
       " 'sqft_basement',\n",
       " 'bedrooms']"
      ]
     },
     "execution_count": 20,
     "metadata": {},
     "output_type": "execute_result"
    }
   ],
   "source": [
    "# Select features that have correlation greater that 0.5\n",
    "sel_feature_pearsons = housedata_corr[housedata_corr[\"price\"]>0.3].index.values.tolist()\n",
    "sel_feature_pearsons"
   ]
  },
  {
   "cell_type": "code",
   "execution_count": 21,
   "metadata": {
    "scrolled": true
   },
   "outputs": [],
   "source": [
    "# Create X and Y datasets \n",
    "X = df_housedata[sel_feature_pearsons]\n",
    "#X = df_housedata.drop(columns = \"price\").copy()\n",
    "#X = df_housedata[[\"sqft_lot\",\"sqft_living\",\"bathrooms\",\"bedrooms\",\"city_rank\",\"floors\",\"grade\"]]\n",
    "y = df_housedata[\"price\"]\n",
    "\n",
    "# Splitting into Train and Test sets.\n",
    "X_train, X_test, y_train, y_test = train_test_split(X, y)\n",
    "\n",
    "#Transforming y_train to log\n",
    "y_train = np.log(y_train)\n",
    "\n",
    "# Creating a StandardScaler instance.\n",
    "scaler = StandardScaler()\n",
    "# Fitting the Standard Scaler with the training data.\n",
    "X_scaler = scaler.fit(X_train)\n",
    "# Scaling the data.\n",
    "X_train_scaled = X_scaler.transform(X_train)\n",
    "X_test_scaled = X_scaler.transform(X_test)"
   ]
  },
  {
   "cell_type": "code",
   "execution_count": 22,
   "metadata": {
    "scrolled": true
   },
   "outputs": [
    {
     "name": "stdout",
     "output_type": "stream",
     "text": [
      "Mean Absolute Error: 108219.67654834587\n",
      "Root Mean Squared Error: 181612.9810482904\n",
      "R_Squared: 0.757422609431478\n"
     ]
    },
    {
     "data": {
      "text/plain": [
       "<matplotlib.collections.PathCollection at 0x18aa27286c8>"
      ]
     },
     "execution_count": 22,
     "metadata": {},
     "output_type": "execute_result"
    },
    {
     "data": {
      "image/png": "[encoded data removed]",
      "text/plain": [
       "<Figure size 1296x576 with 1 Axes>"
      ]
     },
     "metadata": {
      "needs_background": "light"
     },
     "output_type": "display_data"
    }
   ],
   "source": [
    "# Create a regressor model.\n",
    "rf_model = RandomForestRegressor(n_estimators=500, random_state = 0) \n",
    "# Fitting the model\n",
    "rf_model = rf_model.fit(X_train_scaled, y_train)\n",
    "# Making predictions using the testing data.\n",
    "y_pred_rf = rf_model.predict(X_test_scaled)\n",
    "y_pred_rf = np.exp(y_pred_rf)\n",
    "print('Mean Absolute Error:', metrics.mean_absolute_error(y_test, y_pred_rf))\n",
    "print('Root Mean Squared Error:', np.sqrt(metrics.mean_squared_error(y_test, y_pred_rf)))\n",
    "print('R_Squared:', metrics.r2_score(y_test, y_pred_rf))\n",
    "\n",
    "plt.figure(figsize=(18,8))\n",
    "plt.scatter(y_test, y_pred_rf)\n",
    "plt.scatter(y_test,y_test,color=\"red\")"
   ]
  },
  {
   "cell_type": "code",
   "execution_count": 23,
   "metadata": {},
   "outputs": [
    {
     "name": "stdout",
     "output_type": "stream",
     "text": [
      "Mean Absolute Error: 103338.15773406885\n",
      "Root Mean Squared Error: 172177.32413508656\n",
      "R_Squared: 0.7819739163166702\n"
     ]
    },
    {
     "data": {
      "text/plain": [
       "<matplotlib.collections.PathCollection at 0x18aa24e3f48>"
      ]
     },
     "execution_count": 23,
     "metadata": {},
     "output_type": "execute_result"
    },
    {
     "data": {
      "image/png": "[encoded data removed]",
      "text/plain": [
       "<Figure size 1296x576 with 1 Axes>"
      ]
     },
     "metadata": {
      "needs_background": "light"
     },
     "output_type": "display_data"
    }
   ],
   "source": [
    "# Create a regressor model.\n",
    "xgb_model = xgboost.XGBRegressor(learning_rate=0.05, max_depth=5,\n",
    "                                 min_child_weight=1.5,n_estimators=500,subsample=0.8,seed=42)\n",
    "# Fitting the model\n",
    "xgb_model = xgb_model.fit(X_train_scaled, y_train)\n",
    "# Making predictions using the testing data.\n",
    "y_pred_xgb = xgb_model.predict(X_test_scaled)\n",
    "y_pred_xgb = np.exp(y_pred_xgb)\n",
    "print('Mean Absolute Error:', metrics.mean_absolute_error(y_test, y_pred_xgb))\n",
    "print('Root Mean Squared Error:', np.sqrt(metrics.mean_squared_error(y_test, y_pred_xgb)))\n",
    "print('R_Squared:', metrics.r2_score(y_test, y_pred_xgb))\n",
    "\n",
    "plt.figure(figsize=(18,8))\n",
    "plt.scatter(y_test, y_pred_xgb)\n",
    "plt.scatter(y_test,y_test,color=\"red\")"
   ]
  },
  {
   "cell_type": "code",
   "execution_count": 24,
   "metadata": {},
   "outputs": [
    {
     "name": "stdout",
     "output_type": "stream",
     "text": [
      "Mean Absolute Error: 127396.4320700565\n",
      "Root Mean Squared Error: 214574.79961958365\n",
      "R_Squared: 0.6613789305248565\n"
     ]
    },
    {
     "data": {
      "text/plain": [
       "<matplotlib.collections.PathCollection at 0x18aa2298088>"
      ]
     },
     "execution_count": 24,
     "metadata": {},
     "output_type": "execute_result"
    },
    {
     "data": {
      "image/png": "[encoded data removed]",
      "text/plain": [
       "<Figure size 1296x576 with 1 Axes>"
      ]
     },
     "metadata": {
      "needs_background": "light"
     },
     "output_type": "display_data"
    }
   ],
   "source": [
    "# Create a regressor model.\n",
    "reg_model = LinearRegression()\n",
    "# Fitting the model\n",
    "reg_model = reg_model.fit(X_train_scaled, y_train)\n",
    "# Making predictions using the testing data.\n",
    "y_pred_reg = reg_model.predict(X_test_scaled)\n",
    "y_pred_reg = np.exp(y_pred_reg)\n",
    "print('Mean Absolute Error:', metrics.mean_absolute_error(y_test, y_pred_reg))\n",
    "print('Root Mean Squared Error:', np.sqrt(metrics.mean_squared_error(y_test, y_pred_reg)))\n",
    "print('R_Squared:', metrics.r2_score(y_test, y_pred_reg))\n",
    "\n",
    "plt.figure(figsize=(18,8))\n",
    "plt.scatter(y_test, y_pred_reg)\n",
    "plt.scatter(y_test,y_test,color=\"red\")"
   ]
  },
  {
   "cell_type": "code",
   "execution_count": 25,
   "metadata": {},
   "outputs": [
    {
     "data": {
      "text/html": [
       "<div>\n",
       "<style scoped>\n",
       "    .dataframe tbody tr th:only-of-type {\n",
       "        vertical-align: middle;\n",
       "    }\n",
       "\n",
       "    .dataframe tbody tr th {\n",
       "        vertical-align: top;\n",
       "    }\n",
       "\n",
       "    .dataframe thead th {\n",
       "        text-align: right;\n",
       "    }\n",
       "</style>\n",
       "<table border=\"1\" class=\"dataframe\">\n",
       "  <thead>\n",
       "    <tr style=\"text-align: right;\">\n",
       "      <th></th>\n",
       "      <th>RF Prediction</th>\n",
       "      <th>XGB Prediction</th>\n",
       "      <th>Reg Prediction</th>\n",
       "      <th>Actual</th>\n",
       "    </tr>\n",
       "  </thead>\n",
       "  <tbody>\n",
       "    <tr>\n",
       "      <td>0</td>\n",
       "      <td>3.668864e+05</td>\n",
       "      <td>4.128724e+05</td>\n",
       "      <td>424043.669264</td>\n",
       "      <td>371000</td>\n",
       "    </tr>\n",
       "    <tr>\n",
       "      <td>1</td>\n",
       "      <td>3.014683e+05</td>\n",
       "      <td>3.343492e+05</td>\n",
       "      <td>357790.920695</td>\n",
       "      <td>313000</td>\n",
       "    </tr>\n",
       "    <tr>\n",
       "      <td>2</td>\n",
       "      <td>5.329466e+05</td>\n",
       "      <td>5.622288e+05</td>\n",
       "      <td>457931.480649</td>\n",
       "      <td>900000</td>\n",
       "    </tr>\n",
       "    <tr>\n",
       "      <td>3</td>\n",
       "      <td>6.321905e+05</td>\n",
       "      <td>6.145747e+05</td>\n",
       "      <td>742948.927748</td>\n",
       "      <td>605000</td>\n",
       "    </tr>\n",
       "    <tr>\n",
       "      <td>4</td>\n",
       "      <td>1.978017e+05</td>\n",
       "      <td>2.256455e+05</td>\n",
       "      <td>258953.036558</td>\n",
       "      <td>200000</td>\n",
       "    </tr>\n",
       "    <tr>\n",
       "      <td>...</td>\n",
       "      <td>...</td>\n",
       "      <td>...</td>\n",
       "      <td>...</td>\n",
       "      <td>...</td>\n",
       "    </tr>\n",
       "    <tr>\n",
       "      <td>5354</td>\n",
       "      <td>5.154220e+05</td>\n",
       "      <td>5.130813e+05</td>\n",
       "      <td>560757.512978</td>\n",
       "      <td>535000</td>\n",
       "    </tr>\n",
       "    <tr>\n",
       "      <td>5355</td>\n",
       "      <td>3.646704e+05</td>\n",
       "      <td>3.718966e+05</td>\n",
       "      <td>396150.400589</td>\n",
       "      <td>381000</td>\n",
       "    </tr>\n",
       "    <tr>\n",
       "      <td>5356</td>\n",
       "      <td>4.700413e+05</td>\n",
       "      <td>6.216193e+05</td>\n",
       "      <td>532027.598201</td>\n",
       "      <td>822500</td>\n",
       "    </tr>\n",
       "    <tr>\n",
       "      <td>5357</td>\n",
       "      <td>1.086479e+06</td>\n",
       "      <td>1.026446e+06</td>\n",
       "      <td>829678.596597</td>\n",
       "      <td>1050000</td>\n",
       "    </tr>\n",
       "    <tr>\n",
       "      <td>5358</td>\n",
       "      <td>3.638327e+05</td>\n",
       "      <td>3.555095e+05</td>\n",
       "      <td>348472.268847</td>\n",
       "      <td>289200</td>\n",
       "    </tr>\n",
       "  </tbody>\n",
       "</table>\n",
       "<p>5359 rows × 4 columns</p>\n",
       "</div>"
      ],
      "text/plain": [
       "      RF Prediction  XGB Prediction  Reg Prediction   Actual\n",
       "0      3.668864e+05    4.128724e+05   424043.669264   371000\n",
       "1      3.014683e+05    3.343492e+05   357790.920695   313000\n",
       "2      5.329466e+05    5.622288e+05   457931.480649   900000\n",
       "3      6.321905e+05    6.145747e+05   742948.927748   605000\n",
       "4      1.978017e+05    2.256455e+05   258953.036558   200000\n",
       "...             ...             ...             ...      ...\n",
       "5354   5.154220e+05    5.130813e+05   560757.512978   535000\n",
       "5355   3.646704e+05    3.718966e+05   396150.400589   381000\n",
       "5356   4.700413e+05    6.216193e+05   532027.598201   822500\n",
       "5357   1.086479e+06    1.026446e+06   829678.596597  1050000\n",
       "5358   3.638327e+05    3.555095e+05   348472.268847   289200\n",
       "\n",
       "[5359 rows x 4 columns]"
      ]
     },
     "execution_count": 25,
     "metadata": {},
     "output_type": "execute_result"
    }
   ],
   "source": [
    "# Compare the results from the three models and download the comparison file\n",
    "compare_df = pd.DataFrame(y_pred_rf, columns = [\"RF Prediction\"])\n",
    "compare_df[\"XGB Prediction\"] = y_pred_xgb.tolist()\n",
    "compare_df[\"Reg Prediction\"] = y_pred_reg.tolist()\n",
    "compare_df[\"Actual\"] = y_test.tolist()\n",
    "compare_df.to_csv(\"Compare.csv\")\n",
    "compare_df"
   ]
  },
  {
   "cell_type": "code",
   "execution_count": 26,
   "metadata": {},
   "outputs": [],
   "source": [
    "# Download scalar and xgb model pickle file\n",
    "pickle.dump(X_scaler,open(\"hp_scalar.pkl\",\"wb\"))\n",
    "pickle.dump(xgb_model,open(\"hp_xgbmodel.pkl\",\"wb\"))"
   ]
  },
  {
   "cell_type": "code",
   "execution_count": 27,
   "metadata": {},
   "outputs": [],
   "source": [
    "# Download formatted house data\n",
    "df_housedata.to_csv(\"formatted_housedata.csv\")\n",
    "average_price_df.to_csv(\"average_price_df.csv\")"
   ]
  },
  {
   "cell_type": "code",
   "execution_count": 28,
   "metadata": {},
   "outputs": [],
   "source": [
    "# Features used\\\n",
    "# 'sqft_living',\n",
    "# 'grade',\n",
    "# 'sqft_above',\n",
    "# 'bathrooms',\n",
    "# 'city_rank',\n",
    "# 'view',\n",
    "# 'sqft_basement',\n",
    "# 'bedrooms'"
   ]
  },
  {
   "cell_type": "code",
   "execution_count": 29,
   "metadata": {},
   "outputs": [
    {
     "data": {
      "text/html": [
       "<div>\n",
       "<style scoped>\n",
       "    .dataframe tbody tr th:only-of-type {\n",
       "        vertical-align: middle;\n",
       "    }\n",
       "\n",
       "    .dataframe tbody tr th {\n",
       "        vertical-align: top;\n",
       "    }\n",
       "\n",
       "    .dataframe thead th {\n",
       "        text-align: right;\n",
       "    }\n",
       "</style>\n",
       "<table border=\"1\" class=\"dataframe\">\n",
       "  <thead>\n",
       "    <tr style=\"text-align: right;\">\n",
       "      <th></th>\n",
       "      <th>sqft_living</th>\n",
       "      <th>grade</th>\n",
       "      <th>sqft_above</th>\n",
       "      <th>bathrooms</th>\n",
       "      <th>city_rank</th>\n",
       "      <th>view</th>\n",
       "      <th>sqft_basement</th>\n",
       "      <th>bedrooms</th>\n",
       "    </tr>\n",
       "  </thead>\n",
       "  <tbody>\n",
       "    <tr>\n",
       "      <td>0</td>\n",
       "      <td>1500</td>\n",
       "      <td></td>\n",
       "      <td></td>\n",
       "      <td>2</td>\n",
       "      <td>13.0</td>\n",
       "      <td></td>\n",
       "      <td></td>\n",
       "      <td>3</td>\n",
       "    </tr>\n",
       "  </tbody>\n",
       "</table>\n",
       "</div>"
      ],
      "text/plain": [
       "  sqft_living grade sqft_above bathrooms  city_rank view sqft_basement  \\\n",
       "0        1500                          2       13.0                      \n",
       "\n",
       "  bedrooms  \n",
       "0        3  "
      ]
     },
     "execution_count": 29,
     "metadata": {},
     "output_type": "execute_result"
    }
   ],
   "source": [
    "sqft_living = \"1500\"\n",
    "grade = \"\"\n",
    "sqft_above = \"\"\n",
    "bathrooms = \"2\"\n",
    "city = \"Seattle\"\n",
    "view = \"\"\n",
    "sqft_basement = \"\"\n",
    "bedrooms = \"3\"\n",
    "\n",
    "# get city_rank\n",
    "city_rank = average_price_df.loc[average_price_df.index == city, \"city_rank\"].values[0]\n",
    "\n",
    "# create the predict dataframe\n",
    "pred_df = pd.DataFrame(columns = sel_feature_pearsons)\n",
    "pred_df[\"sqft_living\"] = [sqft_living]\n",
    "pred_df[\"grade\"] = grade\n",
    "pred_df[\"sqft_above\"] = sqft_above\n",
    "pred_df[\"bathrooms\"] = bathrooms\n",
    "pred_df[\"city_rank\"] = city_rank\n",
    "pred_df[\"view\"] = view\n",
    "pred_df[\"sqft_basement\"] = sqft_basement\n",
    "pred_df[\"bedrooms\"] = bedrooms\n",
    "\n",
    "pred_df\n"
   ]
  },
  {
   "cell_type": "code",
   "execution_count": 30,
   "metadata": {},
   "outputs": [
    {
     "data": {
      "text/html": [
       "<div>\n",
       "<style scoped>\n",
       "    .dataframe tbody tr th:only-of-type {\n",
       "        vertical-align: middle;\n",
       "    }\n",
       "\n",
       "    .dataframe tbody tr th {\n",
       "        vertical-align: top;\n",
       "    }\n",
       "\n",
       "    .dataframe thead th {\n",
       "        text-align: right;\n",
       "    }\n",
       "</style>\n",
       "<table border=\"1\" class=\"dataframe\">\n",
       "  <thead>\n",
       "    <tr style=\"text-align: right;\">\n",
       "      <th></th>\n",
       "      <th>sqft_living</th>\n",
       "      <th>grade</th>\n",
       "      <th>sqft_above</th>\n",
       "      <th>bathrooms</th>\n",
       "      <th>city_rank</th>\n",
       "      <th>view</th>\n",
       "      <th>sqft_basement</th>\n",
       "      <th>bedrooms</th>\n",
       "    </tr>\n",
       "  </thead>\n",
       "  <tbody>\n",
       "    <tr>\n",
       "      <td>0</td>\n",
       "      <td>1500</td>\n",
       "      <td>7.34571</td>\n",
       "      <td>1445.15</td>\n",
       "      <td>2</td>\n",
       "      <td>13.0</td>\n",
       "      <td>0.305434</td>\n",
       "      <td>352.745</td>\n",
       "      <td>3</td>\n",
       "    </tr>\n",
       "  </tbody>\n",
       "</table>\n",
       "</div>"
      ],
      "text/plain": [
       "  sqft_living    grade sqft_above bathrooms  city_rank      view  \\\n",
       "0        1500  7.34571    1445.15         2       13.0  0.305434   \n",
       "\n",
       "  sqft_basement bedrooms  \n",
       "0       352.745        3  "
      ]
     },
     "execution_count": 30,
     "metadata": {},
     "output_type": "execute_result"
    }
   ],
   "source": [
    "# fill in column values when no user input\n",
    "# filter housedata for the city\n",
    "predict_filler_df = df_housedata[df_housedata[\"city_rank\"] == city_rank]\n",
    "\n",
    "\n",
    "for column in pred_df:\n",
    "    if pred_df.loc[0,column] == \"\":\n",
    "        pred_df.loc[0,column] = predict_filler_df.groupby(\"city_rank\")[column].mean().values[0]   \n",
    "        \n",
    "pred_df\n"
   ]
  },
  {
   "cell_type": "code",
   "execution_count": 31,
   "metadata": {},
   "outputs": [
    {
     "data": {
      "text/plain": [
       "array([414262.2728003])"
      ]
     },
     "execution_count": 31,
     "metadata": {},
     "output_type": "execute_result"
    }
   ],
   "source": [
    "#Predict House Price\n",
    "pred_scaled = X_scaler.transform(pred_df)\n",
    "\n",
    "y_pred_reg = reg_model.predict(pred_scaled)\n",
    "y_pred_reg = np.exp(y_pred_reg)\n",
    "\n",
    "y_pred_reg"
   ]
  },
  {
   "cell_type": "code",
   "execution_count": 32,
   "metadata": {},
   "outputs": [
    {
     "data": {
      "text/plain": [
       "array([420049.88], dtype=float32)"
      ]
     },
     "execution_count": 32,
     "metadata": {},
     "output_type": "execute_result"
    }
   ],
   "source": [
    "y_pred_xgb = xgb_model.predict(pred_scaled)\n",
    "y_pred_xgb = np.exp(y_pred_xgb)\n",
    "\n",
    "y_pred_xgb"
   ]
  },
  {
   "cell_type": "code",
   "execution_count": 33,
   "metadata": {},
   "outputs": [
    {
     "data": {
      "text/plain": [
       "array([435497.93099491])"
      ]
     },
     "execution_count": 33,
     "metadata": {},
     "output_type": "execute_result"
    }
   ],
   "source": [
    "y_pred_rf = rf_model.predict(pred_scaled)\n",
    "y_pred_rf = np.exp(y_pred_rf)\n",
    "\n",
    "y_pred_rf"
   ]
  }
 ],
 "metadata": {
  "kernelspec": {
   "display_name": "Python 3",
   "language": "python",
   "name": "python3"
  },
  "language_info": {
   "codemirror_mode": {
    "name": "ipython",
    "version": 3
   },
   "file_extension": ".py",
   "mimetype": "text/x-python",
   "name": "python",
   "nbconvert_exporter": "python",
   "pygments_lexer": "ipython3",
   "version": "3.7.4"
  }
 },
 "nbformat": 4,
 "nbformat_minor": 4
}
